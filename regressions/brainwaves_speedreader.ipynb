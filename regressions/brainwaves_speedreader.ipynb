{
 "metadata": {
  "name": ""
 },
 "nbformat": 3,
 "nbformat_minor": 0,
 "worksheets": [
  {
   "cells": [
    {
     "cell_type": "code",
     "collapsed": false,
     "input": [
      "import numpy as np\n",
      "import pandas as pd\n",
      "from pandas.stats.api import ols"
     ],
     "language": "python",
     "metadata": {},
     "outputs": [],
     "prompt_number": 1
    },
    {
     "cell_type": "code",
     "collapsed": false,
     "input": [
      "''' Variables '''\n",
      "score = [0.6,0.5,0.25,0.75,1,1,0.5,1,0.5,0.25,0.75,1,0.8,0.25,0.25,0.75,1,0,0,0.25,0,0.4,0,0.25,0.25,1,0.25,0.25,0.5,0.6,1,1,-1,0.4,0.75,0.50,.5,0.5,1,0.6,0.25,0.5,0.25,0.5,1,0.5,-1,0.5,0.5,0.25,1,1,0.25,0.5,0.6,0.25,0,0,0.2,0.25,0.5,0.5,0.4,0.25,0.6,0.5,0.25,0.25,1,0.25,0.25,0.8,0.25,0.5,0.4]\n",
      "comfort = [3,3,3,4,5,4,3,5,2,2,4,5,3,2,4,4,5,5,3,3,4,1,1,1,4,3,4,3,5,3,4,3,1,4,4,4,2,3,4,4,4,4,2,4,5,2,5,4,4,2,4,3,4,3,3,4,4,2,3,4,2,2,3,1,5,4,3,4,4,2,2,4,5,5,5]\n",
      "control = [4,4,4,2,2,2,3,3,3,1,1,1,2,2,3,3,5,4,3,2,3,1,1,1,2,2,2,2,2,2,3,3,1,3,2,2,2,3,4,4,2,2,1,2,2,1,3,3,3,2,4,2,3,3,2,2,2,1,3,5,1,1,2,1,4,4,5,3,4,2,2,3,4,4,5]\n",
      "age = [28,28,28,23,23,23,41,41,41,27,27,27,30,30,30,24,24,24,23,23,23,29,29,29,20,20,20,28,28,28,26,26,26,21,21,21,32,32,32,26,26,26,28,28,28,26,26,26,37,37,37,29,29,29,32,32,32,26,26,26,29,29,29,37,37,37,26,26,26,24,24,24,27,27,27]\n",
      "\n",
      "# 1 is native 0 is !native\n",
      "english = [0,0,0,1,1,1,1,1,1,1,1,1,0,0,0,1,1,1,0,0,0,1,1,1,1,1,1,1,1,1,0,0,0,1,1,1,0,0,0,0,0,0,1,1,1,1,1,1,1,1,1,1,1,1,1,1,1,1,1,1,0,0,0,1,1,1,1,1,1,1,1,1,0,0,0]\n",
      "\n",
      "# high school = 0; bachelor = 1; master = 2; phd = 3\n",
      "education = [2,2,2,1,1,1,1,1,1,1,1,1,1,1,1,0,0,0,1,1,1,2,2,2,0,0,0,1,1,1,1,1,1,1,1,1,1,1,1,2,2,2,1,1,1,2,2,2,1,1,1,1,1,1,2,2,2,2,2,2,1,1,1,3,3,3,1,1,1,2,2,2,1,1,1]\n",
      "\n",
      "# 1 is text1; 0 is !text1\n",
      "text1 = [0,1,0,1,0,0,0,0,1,0,1,0,0,0,0,1,0,0,0,1,0,0,1,0,1,0,0,1,0,0,0,1,0,0,1,0,0,1,0,0,1,0,1,0,0,1,0,0,0,1,0,0,0,1,0,1,0,1,0,0,0,1,0,1,0,0,0,1,0,1,0,0,0,1,0]\n",
      "\n",
      "# 1 is text2; 0 is !text2\n",
      "text2 = [0,0,1,0,1,0,1,0,0,1,0,0,0,1,1,0,0,1,1,0,0,0,0,1,0,0,1,0,1,0,0,0,1,0,0,1,1,0,0,0,0,1,0,1,0,0,0,1,1,0,0,0,1,0,0,0,1,0,0,1,1,0,0,0,0,1,1,0,0,0,1,0,1,0,0]\n",
      "\n",
      "# text complexity text0 : 9.4, text1 : 8.3, text2 : 10.2\n",
      "complexity = [9.4,8.3,10.2,8.3,10.2,9.4,10.2,9.4,8.3,10.2,8.3,9.4,9.4,10.2,10.2,8.3,9.4,10.2,10.2,8.3,9.4,9.4,8.3,10.2,8.3,9.4,10.2,8.3,10.2,9.4,9.4,8.3,10.2,9.4,8.3,10.2,10.2,8.3,9.4,9.4,8.3,10.2,8.3,10.2,9.4,8.3,9.4,10.2,10.2,8.3,9.4,9.4,10.2,8.3,9.4,8.3,10.2,8.3,9.4,10.2,10.2,8.3,9.4,8.3,9.4,10.2,10.2,8.3,9.4,8.3,10.2,9.4,10.2,8.3,9.4]\n",
      "\n",
      "\n",
      "# 1 if condition0; 0 = !condition0\n",
      "condition0 = [1,0,0,1,0,0,1,0,0,0,0,1,0,0,0,0,0,1,0,0,1,0,1,0,0,0,1,0,0,1,0,1,0,0,0,1,0,0,1,0,1,0,0,0,1,0,0,1,0,1,0,0,1,0,1,0,0,1,1,1,1,0,0,0,1,0,0,1,0,0,0,1,0,0,1]\n",
      "\n",
      "# 1 is condition1; 0 is !condition1\n",
      "condition1 = [0,1,0,0,1,0,0,1,0,0,1,0,0,1,1,0,1,0,0,1,0,0,0,1,0,1,0,1,0,0,0,0,1,1,0,0,0,1,0,0,0,1,0,1,0,1,0,0,1,0,0,1,0,0,0,1,0,0,0,0,0,0,1,1,0,0,1,0,0,1,0,0,1,0,0] \n",
      "\n",
      "# 1 is condition2; 0 is !condition2\n",
      "condition2 = [0,0,1,0,0,1,0,0,1,1,0,0,1,0,0,1,0,0,1,0,0,1,0,0,1,0,0,0,1,0,1,0,0,0,1,0,1,0,0,1,0,0,1,0,0,0,1,0,0,0,1,0,0,1,0,0,1,0,0,0,0,1,0,0,0,1,0,0,1,0,1,0,0,1,0]\n",
      "\n",
      "# multiplication of text1 x condition0\n",
      "text1condition0 = np.array(text1)*np.array(condition0)\n",
      "\n",
      "# text2 x condition0\n",
      "text2condition0 = np.array(text2)*np.array(condition0)\n",
      "\n",
      "# text1 x condition1\n",
      "text1condition1 = np.array(text1)*np.array(condition1)\n",
      "\n",
      "# text2 x condition1\n",
      "text2condition1 = np.array(text2)*np.array(condition1)\n",
      "\n",
      "df = pd.DataFrame({\"score\": score, \"comfort\": comfort, \"control\": control, \"age\": age, \"english\": english, \"text1\": text1, \"text2\": text2, \"complexity\": complexity,\"condition1\": condition1, \"condition2\": condition2, \"condition0\": condition0, \"text1condition0\": text1condition0, \"text2condition0\":text2condition0, \"text1condition1\":text1condition1, \"text2condition1\":text2condition1})\n",
      "\n",
      "# result = ols(y=df['score'], x=df[['comfort','control']])\n",
      "# print result\n",
      "\n",
      "# result = ols(y=df['score'], x=df[['text1','text2','condition1', 'condition2']])\n",
      "# print result\n",
      "\n",
      "result = ols(y=df['score'], x=df[['complexity','condition0','condition1']])\n",
      "print result"
     ],
     "language": "python",
     "metadata": {},
     "outputs": [
      {
       "output_type": "stream",
       "stream": "stdout",
       "text": [
        "\n",
        "-------------------------Summary of Regression Analysis-------------------------\n",
        "\n",
        "Formula: Y ~ <complexity> + <condition0> + <condition1> + <intercept>\n",
        "\n",
        "Number of Observations:         75\n",
        "Number of Degrees of Freedom:   4\n",
        "\n",
        "R-squared:         0.0108\n",
        "Adj R-squared:    -0.0310\n",
        "\n",
        "Rmse:              0.3919\n",
        "\n",
        "F-stat (3, 71):     0.2582, p-value:     0.8552\n",
        "\n",
        "Degrees of Freedom: model 3, resid 71\n",
        "\n",
        "-----------------------Summary of Estimated Coefficients------------------------\n",
        "      Variable       Coef    Std Err     t-stat    p-value    CI 2.5%   CI 97.5%\n",
        "--------------------------------------------------------------------------------\n",
        "    complexity    -0.0498     0.0583      -0.85     0.3956    -0.1640     0.0644\n",
        "    condition0     0.0055     0.1110       0.05     0.9604    -0.2120     0.2230\n",
        "    condition1    -0.0172     0.1120      -0.15     0.8782    -0.2367     0.2023\n",
        "     intercept     0.9236     0.5478       1.69     0.0962    -0.1501     1.9973\n",
        "---------------------------------End of Summary---------------------------------\n",
        "\n"
       ]
      }
     ],
     "prompt_number": 91
    },
    {
     "cell_type": "code",
     "collapsed": false,
     "input": [
      "dft0 = df[(df['text1'] == 0) & (df['text2'] == 0)]\n",
      "dft1 = df[(df['text1'] == 1) & (df['text2'] == 0)]\n",
      "dft2 = df[(df['text1'] == 0) & (df['text2'] == 1)]"
     ],
     "language": "python",
     "metadata": {},
     "outputs": [],
     "prompt_number": 92
    },
    {
     "cell_type": "code",
     "collapsed": false,
     "input": [
      "dft = df\n",
      "result = ols(y=dft['comfort'], x=dft[['condition0','condition1']])\n",
      "print result"
     ],
     "language": "python",
     "metadata": {},
     "outputs": [
      {
       "output_type": "stream",
       "stream": "stdout",
       "text": [
        "\n",
        "-------------------------Summary of Regression Analysis-------------------------\n",
        "\n",
        "Formula: Y ~ <condition0> + <condition1> + <intercept>\n",
        "\n",
        "Number of Observations:         75\n",
        "Number of Degrees of Freedom:   3\n",
        "\n",
        "R-squared:         0.0203\n",
        "Adj R-squared:    -0.0069\n",
        "\n",
        "Rmse:              1.1429\n",
        "\n",
        "F-stat (2, 72):     0.7475, p-value:     0.4772\n",
        "\n",
        "Degrees of Freedom: model 2, resid 72\n",
        "\n",
        "-----------------------Summary of Estimated Coefficients------------------------\n",
        "      Variable       Coef    Std Err     t-stat    p-value    CI 2.5%   CI 97.5%\n",
        "--------------------------------------------------------------------------------\n",
        "    condition0     0.2821     0.3235       0.87     0.3862    -0.3520     0.9161\n",
        "    condition1    -0.0933     0.3266      -0.29     0.7759    -0.7335     0.5468\n",
        "     intercept     3.3333     0.2333      14.29     0.0000     2.8761     3.7906\n",
        "---------------------------------End of Summary---------------------------------\n",
        "\n"
       ]
      }
     ],
     "prompt_number": 102
    },
    {
     "cell_type": "code",
     "collapsed": false,
     "input": [],
     "language": "python",
     "metadata": {},
     "outputs": []
    }
   ],
   "metadata": {}
  }
 ]
}