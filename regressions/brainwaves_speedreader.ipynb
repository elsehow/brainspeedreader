{
 "metadata": {
  "name": "",
  "signature": "sha256:94dd6bd9c9defe24926c8a0ca42af00ae563b62344537ff04fed1aed34ad6c56"
 },
 "nbformat": 3,
 "nbformat_minor": 0,
 "worksheets": [
  {
   "cells": [
    {
     "cell_type": "markdown",
     "metadata": {},
     "source": [
      "### conditions\n",
      "0 : entropy \n",
      "\n",
      "1 : AR(1) \n",
      "\n",
      "2 : constant "
     ]
    },
    {
     "cell_type": "code",
     "collapsed": false,
     "input": [
      "def OLS(df,formula):\n",
      "    lm = ols(formula,df).fit()\n",
      "    print lm.summary()"
     ],
     "language": "python",
     "metadata": {},
     "outputs": [],
     "prompt_number": 1
    },
    {
     "cell_type": "code",
     "collapsed": false,
     "input": [
      "import numpy as np\n",
      "import pylab as pl\n",
      "import pandas as pd\n",
      "#from pandas.stats.api import ols\n",
      "from statsmodels.formula.api import ols\n",
      "from scipy import stats\n",
      "import pandas as pd\n",
      "\n",
      "sys.path.append(\"/home/ubuntu/python/\")\n",
      "from tm_python_lib import * \n",
      "import adaptive_kernel_tom as AK\n",
      "matplotlib.rcParams.update({'font.size': 15})\n",
      "\n",
      "projectDir = \"/home/ubuntu/github/brainspeedreader/regressions\"\n",
      "sys.path.append(projectDir)\n",
      "\n",
      "try:\n",
      "    reload(rawdata1)\n",
      "except:\n",
      "    import rawdata1\n",
      "\n",
      "from rawdata1 import df\n",
      "\n",
      "df['combinedConditions'] = df.condition1 + df.condition2\n",
      "df['duration'] = df['duration']/1000.\n",
      "df['duration'][df['duration'] > 1000] = 0\n",
      "df['duration'][df['duration'] == 0] = None\n",
      "#df.head()"
     ],
     "language": "python",
     "metadata": {},
     "outputs": [
      {
       "output_type": "stream",
       "stream": "stdout",
       "text": [
        "text 0 not found\n",
        "text 11 not found\n",
        "text 12 not found\n"
       ]
      }
     ],
     "prompt_number": 2
    },
    {
     "cell_type": "code",
     "collapsed": false,
     "input": [
      "''' Load Power Spectrum and Generalized Entropy'''\n",
      "sys.path.append(\"/home/ubuntu/github/brainlib\")\n",
      "\n",
      "try:\n",
      "    reload(pspectrumlib)\n",
      "except:\n",
      "    import pspectrumlib\n",
      "    \n",
      "from pspectrumlib import *"
     ],
     "language": "python",
     "metadata": {},
     "outputs": [],
     "prompt_number": 3
    },
    {
     "cell_type": "code",
     "collapsed": false,
     "input": [
      "def normalize(vector):\n",
      "    vNorm = (vector - np.mean(vector))/np.std(vector)\n",
      "    #vNorm = (vector)/np.std(vector)\n",
      "    return vNorm"
     ],
     "language": "python",
     "metadata": {},
     "outputs": [],
     "prompt_number": 41
    },
    {
     "cell_type": "code",
     "collapsed": false,
     "input": [
      "semilogy(df['duration'].values,'o')"
     ],
     "language": "python",
     "metadata": {},
     "outputs": [
      {
       "metadata": {},
       "output_type": "pyout",
       "prompt_number": 126,
       "text": [
        "[<matplotlib.lines.Line2D at 0xbde3f10>]"
       ]
      },
      {
       "metadata": {},
       "output_type": "display_data",
       "png": "[encoded data removed]",
       "text": [
        "<matplotlib.figure.Figure at 0xc0f1e50>"
       ]
      }
     ],
     "prompt_number": 126
    },
    {
     "cell_type": "code",
     "collapsed": false,
     "input": [
      "log10(128)"
     ],
     "language": "python",
     "metadata": {},
     "outputs": [
      {
       "metadata": {},
       "output_type": "pyout",
       "prompt_number": 259,
       "text": [
        "2.1072099696478683"
       ]
      }
     ],
     "prompt_number": 259
    },
    {
     "cell_type": "code",
     "collapsed": false,
     "input": [
      "symbols = ['.','+','s']\n",
      "\n",
      "colors =  ['b','r','k']\n",
      "\n",
      "X = 'WordCount'\n",
      "Y = 'duration'\n",
      "pl.figure(1,(10,10))\n",
      "\n",
      "for treatment in [0,1,2]:\n",
      "    cond = 'condition%s'%treatment\n",
      "    x = df[X][df[cond] == 1].values\n",
      "    y = df[Y][df[cond] == 1].values\n",
      "    c = (x > 0)*(y >0)\n",
      "\n",
      "    B = binning(x[c],y[c],30)\n",
      "    print B[1]\n",
      "    #pl.semilogx(x[c],y[c],'o',color=colors[treatment],marker=symbols[treatment])\n",
      "    #pl.plot(B[0],B[1],color=colors[treatment],marker=symbols[treatment])\n",
      "    pl.errorbar(B[0],B[1],yerr=B[2])\n",
      "    pl.xlabel(X)\n",
      "    pl.ylabel(Y)\n",
      "    fit = stats.linregress(x[c],y[c])\n",
      "    plot(x[c],x[c]*fit[0]+fit[1],'-',color=colors[treatment])\n",
      "    print fit\n",
      "    #print np.mean(y[c]/x[c]),np.std(y[c]/x[c])\n",
      "    #print np.mean(y[c])/np.mean(x[c])\n",
      "    #print \"Spearman rho: \",stats.spearmanr(x[c],y[c])"
     ],
     "language": "python",
     "metadata": {},
     "outputs": []
    },
    {
     "cell_type": "code",
     "collapsed": false,
     "input": [
      "df.describe().transpose()"
     ],
     "language": "python",
     "metadata": {},
     "outputs": [
      {
       "html": [
        "<div style=\"max-height:1000px;max-width:1500px;overflow:auto;\">\n",
        "<table border=\"1\" class=\"dataframe\">\n",
        "  <thead>\n",
        "    <tr style=\"text-align: right;\">\n",
        "      <th></th>\n",
        "      <th>count</th>\n",
        "      <th>mean</th>\n",
        "      <th>std</th>\n",
        "      <th>min</th>\n",
        "      <th>25%</th>\n",
        "      <th>50%</th>\n",
        "      <th>75%</th>\n",
        "      <th>max</th>\n",
        "    </tr>\n",
        "  </thead>\n",
        "  <tbody>\n",
        "    <tr>\n",
        "      <th>adhd</th>\n",
        "      <td> 135</td>\n",
        "      <td>   0.029630</td>\n",
        "      <td>   0.170195</td>\n",
        "      <td>  0.000</td>\n",
        "      <td>   0.000</td>\n",
        "      <td>   0.000</td>\n",
        "      <td>   0.000000</td>\n",
        "      <td>   1.000</td>\n",
        "    </tr>\n",
        "    <tr>\n",
        "      <th>age</th>\n",
        "      <td> 135</td>\n",
        "      <td>  30.118519</td>\n",
        "      <td>   8.281477</td>\n",
        "      <td> 18.000</td>\n",
        "      <td>  26.000</td>\n",
        "      <td>  29.000</td>\n",
        "      <td>  32.000000</td>\n",
        "      <td>  61.000</td>\n",
        "    </tr>\n",
        "    <tr>\n",
        "      <th>comfort</th>\n",
        "      <td> 135</td>\n",
        "      <td>   3.400000</td>\n",
        "      <td>   1.066449</td>\n",
        "      <td>  1.000</td>\n",
        "      <td>   3.000</td>\n",
        "      <td>   4.000</td>\n",
        "      <td>   4.000000</td>\n",
        "      <td>   5.000</td>\n",
        "    </tr>\n",
        "    <tr>\n",
        "      <th>condition0</th>\n",
        "      <td> 135</td>\n",
        "      <td>   0.325926</td>\n",
        "      <td>   0.470465</td>\n",
        "      <td>  0.000</td>\n",
        "      <td>   0.000</td>\n",
        "      <td>   0.000</td>\n",
        "      <td>   1.000000</td>\n",
        "      <td>   1.000</td>\n",
        "    </tr>\n",
        "    <tr>\n",
        "      <th>condition1</th>\n",
        "      <td> 135</td>\n",
        "      <td>   0.340741</td>\n",
        "      <td>   0.475724</td>\n",
        "      <td>  0.000</td>\n",
        "      <td>   0.000</td>\n",
        "      <td>   0.000</td>\n",
        "      <td>   1.000000</td>\n",
        "      <td>   1.000</td>\n",
        "    </tr>\n",
        "    <tr>\n",
        "      <th>condition2</th>\n",
        "      <td> 135</td>\n",
        "      <td>   0.333333</td>\n",
        "      <td>   0.473160</td>\n",
        "      <td>  0.000</td>\n",
        "      <td>   0.000</td>\n",
        "      <td>   0.000</td>\n",
        "      <td>   1.000000</td>\n",
        "      <td>   1.000</td>\n",
        "    </tr>\n",
        "    <tr>\n",
        "      <th>control</th>\n",
        "      <td> 135</td>\n",
        "      <td>   2.859259</td>\n",
        "      <td>   1.153599</td>\n",
        "      <td>  1.000</td>\n",
        "      <td>   2.000</td>\n",
        "      <td>   3.000</td>\n",
        "      <td>   4.000000</td>\n",
        "      <td>   5.000</td>\n",
        "    </tr>\n",
        "    <tr>\n",
        "      <th>degree</th>\n",
        "      <td> 135</td>\n",
        "      <td>   1.392593</td>\n",
        "      <td>   0.923138</td>\n",
        "      <td>  0.000</td>\n",
        "      <td>   1.000</td>\n",
        "      <td>   1.000</td>\n",
        "      <td>   2.000000</td>\n",
        "      <td>   3.000</td>\n",
        "    </tr>\n",
        "    <tr>\n",
        "      <th>drugs</th>\n",
        "      <td> 135</td>\n",
        "      <td>   0.118519</td>\n",
        "      <td>   0.324425</td>\n",
        "      <td>  0.000</td>\n",
        "      <td>   0.000</td>\n",
        "      <td>   0.000</td>\n",
        "      <td>   0.000000</td>\n",
        "      <td>   1.000</td>\n",
        "    </tr>\n",
        "    <tr>\n",
        "      <th>duration</th>\n",
        "      <td> 119</td>\n",
        "      <td> 151.446546</td>\n",
        "      <td> 105.819429</td>\n",
        "      <td> 11.002</td>\n",
        "      <td>  57.712</td>\n",
        "      <td> 131.443</td>\n",
        "      <td> 223.964500</td>\n",
        "      <td> 457.311</td>\n",
        "    </tr>\n",
        "    <tr>\n",
        "      <th>english</th>\n",
        "      <td> 135</td>\n",
        "      <td>   0.592593</td>\n",
        "      <td>   0.493182</td>\n",
        "      <td>  0.000</td>\n",
        "      <td>   0.000</td>\n",
        "      <td>   1.000</td>\n",
        "      <td>   1.000000</td>\n",
        "      <td>   1.000</td>\n",
        "    </tr>\n",
        "    <tr>\n",
        "      <th>lefty</th>\n",
        "      <td> 135</td>\n",
        "      <td>   0.059259</td>\n",
        "      <td>   0.236989</td>\n",
        "      <td>  0.000</td>\n",
        "      <td>   0.000</td>\n",
        "      <td>   0.000</td>\n",
        "      <td>   0.000000</td>\n",
        "      <td>   1.000</td>\n",
        "    </tr>\n",
        "    <tr>\n",
        "      <th>reading_disability</th>\n",
        "      <td> 135</td>\n",
        "      <td>   0.051852</td>\n",
        "      <td>   0.222554</td>\n",
        "      <td>  0.000</td>\n",
        "      <td>   0.000</td>\n",
        "      <td>   0.000</td>\n",
        "      <td>   0.000000</td>\n",
        "      <td>   1.000</td>\n",
        "    </tr>\n",
        "    <tr>\n",
        "      <th>scores</th>\n",
        "      <td> 126</td>\n",
        "      <td>   0.458995</td>\n",
        "      <td>   0.249164</td>\n",
        "      <td>  0.000</td>\n",
        "      <td>   0.250</td>\n",
        "      <td>   0.500</td>\n",
        "      <td>   0.666667</td>\n",
        "      <td>   1.000</td>\n",
        "    </tr>\n",
        "    <tr>\n",
        "      <th>text1</th>\n",
        "      <td> 135</td>\n",
        "      <td>   0.192593</td>\n",
        "      <td>   0.395804</td>\n",
        "      <td>  0.000</td>\n",
        "      <td>   0.000</td>\n",
        "      <td>   0.000</td>\n",
        "      <td>   0.000000</td>\n",
        "      <td>   1.000</td>\n",
        "    </tr>\n",
        "    <tr>\n",
        "      <th>text10</th>\n",
        "      <td> 135</td>\n",
        "      <td>   0.096296</td>\n",
        "      <td>   0.296096</td>\n",
        "      <td>  0.000</td>\n",
        "      <td>   0.000</td>\n",
        "      <td>   0.000</td>\n",
        "      <td>   0.000000</td>\n",
        "      <td>   1.000</td>\n",
        "    </tr>\n",
        "    <tr>\n",
        "      <th>text2</th>\n",
        "      <td> 135</td>\n",
        "      <td>   0.200000</td>\n",
        "      <td>   0.401490</td>\n",
        "      <td>  0.000</td>\n",
        "      <td>   0.000</td>\n",
        "      <td>   0.000</td>\n",
        "      <td>   0.000000</td>\n",
        "      <td>   1.000</td>\n",
        "    </tr>\n",
        "    <tr>\n",
        "      <th>text3</th>\n",
        "      <td> 135</td>\n",
        "      <td>   0.022222</td>\n",
        "      <td>   0.147955</td>\n",
        "      <td>  0.000</td>\n",
        "      <td>   0.000</td>\n",
        "      <td>   0.000</td>\n",
        "      <td>   0.000000</td>\n",
        "      <td>   1.000</td>\n",
        "    </tr>\n",
        "    <tr>\n",
        "      <th>text4</th>\n",
        "      <td> 135</td>\n",
        "      <td>   0.066667</td>\n",
        "      <td>   0.250373</td>\n",
        "      <td>  0.000</td>\n",
        "      <td>   0.000</td>\n",
        "      <td>   0.000</td>\n",
        "      <td>   0.000000</td>\n",
        "      <td>   1.000</td>\n",
        "    </tr>\n",
        "    <tr>\n",
        "      <th>text5</th>\n",
        "      <td> 135</td>\n",
        "      <td>   0.066667</td>\n",
        "      <td>   0.250373</td>\n",
        "      <td>  0.000</td>\n",
        "      <td>   0.000</td>\n",
        "      <td>   0.000</td>\n",
        "      <td>   0.000000</td>\n",
        "      <td>   1.000</td>\n",
        "    </tr>\n",
        "    <tr>\n",
        "      <th>text6</th>\n",
        "      <td> 135</td>\n",
        "      <td>   0.059259</td>\n",
        "      <td>   0.236989</td>\n",
        "      <td>  0.000</td>\n",
        "      <td>   0.000</td>\n",
        "      <td>   0.000</td>\n",
        "      <td>   0.000000</td>\n",
        "      <td>   1.000</td>\n",
        "    </tr>\n",
        "    <tr>\n",
        "      <th>text7</th>\n",
        "      <td> 135</td>\n",
        "      <td>   0.044444</td>\n",
        "      <td>   0.206848</td>\n",
        "      <td>  0.000</td>\n",
        "      <td>   0.000</td>\n",
        "      <td>   0.000</td>\n",
        "      <td>   0.000000</td>\n",
        "      <td>   1.000</td>\n",
        "    </tr>\n",
        "    <tr>\n",
        "      <th>text8</th>\n",
        "      <td> 135</td>\n",
        "      <td>   0.029630</td>\n",
        "      <td>   0.170195</td>\n",
        "      <td>  0.000</td>\n",
        "      <td>   0.000</td>\n",
        "      <td>   0.000</td>\n",
        "      <td>   0.000000</td>\n",
        "      <td>   1.000</td>\n",
        "    </tr>\n",
        "    <tr>\n",
        "      <th>text9</th>\n",
        "      <td> 135</td>\n",
        "      <td>   0.022222</td>\n",
        "      <td>   0.147955</td>\n",
        "      <td>  0.000</td>\n",
        "      <td>   0.000</td>\n",
        "      <td>   0.000</td>\n",
        "      <td>   0.000000</td>\n",
        "      <td>   1.000</td>\n",
        "    </tr>\n",
        "    <tr>\n",
        "      <th>trial_num</th>\n",
        "      <td> 135</td>\n",
        "      <td>   1.222222</td>\n",
        "      <td>   0.997509</td>\n",
        "      <td>  0.000</td>\n",
        "      <td>   0.000</td>\n",
        "      <td>   1.000</td>\n",
        "      <td>   2.000000</td>\n",
        "      <td>   3.000</td>\n",
        "    </tr>\n",
        "    <tr>\n",
        "      <th>understanding</th>\n",
        "      <td> 135</td>\n",
        "      <td>   3.096296</td>\n",
        "      <td>   1.118862</td>\n",
        "      <td>  1.000</td>\n",
        "      <td>   2.000</td>\n",
        "      <td>   3.000</td>\n",
        "      <td>   4.000000</td>\n",
        "      <td>   5.000</td>\n",
        "    </tr>\n",
        "    <tr>\n",
        "      <th>ATOS</th>\n",
        "      <td> 135</td>\n",
        "      <td>   9.429630</td>\n",
        "      <td>   1.325866</td>\n",
        "      <td>  7.200</td>\n",
        "      <td>   8.300</td>\n",
        "      <td>   9.500</td>\n",
        "      <td>  10.200000</td>\n",
        "      <td>  13.000</td>\n",
        "    </tr>\n",
        "    <tr>\n",
        "      <th>WordCount</th>\n",
        "      <td> 135</td>\n",
        "      <td> 349.725926</td>\n",
        "      <td> 305.677286</td>\n",
        "      <td>  0.000</td>\n",
        "      <td> 136.000</td>\n",
        "      <td> 225.000</td>\n",
        "      <td> 563.000000</td>\n",
        "      <td> 831.000</td>\n",
        "    </tr>\n",
        "    <tr>\n",
        "      <th>combinedConditions</th>\n",
        "      <td> 135</td>\n",
        "      <td>   0.674074</td>\n",
        "      <td>   0.470465</td>\n",
        "      <td>  0.000</td>\n",
        "      <td>   0.000</td>\n",
        "      <td>   1.000</td>\n",
        "      <td>   1.000000</td>\n",
        "      <td>   1.000</td>\n",
        "    </tr>\n",
        "  </tbody>\n",
        "</table>\n",
        "</div>"
       ],
       "metadata": {},
       "output_type": "pyout",
       "prompt_number": 46,
       "text": [
        "                    count        mean         std     min      25%      50%         75%      max\n",
        "adhd                  135    0.029630    0.170195   0.000    0.000    0.000    0.000000    1.000\n",
        "age                   135   30.118519    8.281477  18.000   26.000   29.000   32.000000   61.000\n",
        "comfort               135    3.400000    1.066449   1.000    3.000    4.000    4.000000    5.000\n",
        "condition0            135    0.325926    0.470465   0.000    0.000    0.000    1.000000    1.000\n",
        "condition1            135    0.340741    0.475724   0.000    0.000    0.000    1.000000    1.000\n",
        "condition2            135    0.333333    0.473160   0.000    0.000    0.000    1.000000    1.000\n",
        "control               135    2.859259    1.153599   1.000    2.000    3.000    4.000000    5.000\n",
        "degree                135    1.392593    0.923138   0.000    1.000    1.000    2.000000    3.000\n",
        "drugs                 135    0.118519    0.324425   0.000    0.000    0.000    0.000000    1.000\n",
        "duration              119  151.446546  105.819429  11.002   57.712  131.443  223.964500  457.311\n",
        "english               135    0.592593    0.493182   0.000    0.000    1.000    1.000000    1.000\n",
        "lefty                 135    0.059259    0.236989   0.000    0.000    0.000    0.000000    1.000\n",
        "reading_disability    135    0.051852    0.222554   0.000    0.000    0.000    0.000000    1.000\n",
        "scores                126    0.458995    0.249164   0.000    0.250    0.500    0.666667    1.000\n",
        "text1                 135    0.192593    0.395804   0.000    0.000    0.000    0.000000    1.000\n",
        "text10                135    0.096296    0.296096   0.000    0.000    0.000    0.000000    1.000\n",
        "text2                 135    0.200000    0.401490   0.000    0.000    0.000    0.000000    1.000\n",
        "text3                 135    0.022222    0.147955   0.000    0.000    0.000    0.000000    1.000\n",
        "text4                 135    0.066667    0.250373   0.000    0.000    0.000    0.000000    1.000\n",
        "text5                 135    0.066667    0.250373   0.000    0.000    0.000    0.000000    1.000\n",
        "text6                 135    0.059259    0.236989   0.000    0.000    0.000    0.000000    1.000\n",
        "text7                 135    0.044444    0.206848   0.000    0.000    0.000    0.000000    1.000\n",
        "text8                 135    0.029630    0.170195   0.000    0.000    0.000    0.000000    1.000\n",
        "text9                 135    0.022222    0.147955   0.000    0.000    0.000    0.000000    1.000\n",
        "trial_num             135    1.222222    0.997509   0.000    0.000    1.000    2.000000    3.000\n",
        "understanding         135    3.096296    1.118862   1.000    2.000    3.000    4.000000    5.000\n",
        "ATOS                  135    9.429630    1.325866   7.200    8.300    9.500   10.200000   13.000\n",
        "WordCount             135  349.725926  305.677286   0.000  136.000  225.000  563.000000  831.000\n",
        "combinedConditions    135    0.674074    0.470465   0.000    0.000    1.000    1.000000    1.000"
       ]
      }
     ],
     "prompt_number": 46
    },
    {
     "cell_type": "code",
     "collapsed": false,
     "input": [
      "'''apply some conditions'''\n",
      "df2 = df.copy()\n",
      "#df2 = df[df['trial_num'] > 0]\n",
      "#df2 = df[df['condition0'] == 1]"
     ],
     "language": "python",
     "metadata": {},
     "outputs": [],
     "prompt_number": 238
    },
    {
     "cell_type": "code",
     "collapsed": false,
     "input": [
      "OLS(df2,'scores ~ duration/WordCount + ATOS')"
     ],
     "language": "python",
     "metadata": {},
     "outputs": [
      {
       "output_type": "stream",
       "stream": "stdout",
       "text": [
        "                            OLS Regression Results                            \n",
        "==============================================================================\n",
        "Dep. Variable:                 scores   R-squared:                       0.162\n",
        "Model:                            OLS   Adj. R-squared:                  0.139\n",
        "Method:                 Least Squares   F-statistic:                     7.039\n",
        "Date:                Thu, 13 Nov 2014   Prob (F-statistic):           0.000227\n",
        "Time:                        01:51:57   Log-Likelihood:                 5.6948\n",
        "No. Observations:                 113   AIC:                            -3.390\n",
        "Df Residuals:                     109   BIC:                             7.520\n",
        "Df Model:                           3                                         \n",
        "======================================================================================\n",
        "                         coef    std err          t      P>|t|      [95.0% Conf. Int.]\n",
        "--------------------------------------------------------------------------------------\n",
        "Intercept              0.0329      0.166      0.199      0.843        -0.296     0.362\n",
        "duration            8.976e-05      0.000      0.218      0.828        -0.001     0.001\n",
        "duration:WordCount -9.045e-07   4.37e-07     -2.068      0.041     -1.77e-06 -3.78e-08\n",
        "ATOS                   0.0511      0.017      3.034      0.003         0.018     0.084\n",
        "==============================================================================\n",
        "Omnibus:                        0.501   Durbin-Watson:                   1.606\n",
        "Prob(Omnibus):                  0.778   Jarque-Bera (JB):                0.646\n",
        "Skew:                           0.071   Prob(JB):                        0.724\n",
        "Kurtosis:                       2.658   Cond. No.                     9.54e+05\n",
        "==============================================================================\n",
        "\n",
        "Warnings:\n",
        "[1] The condition number is large, 9.54e+05. This might indicate that there are\n",
        "strong multicollinearity or other numerical problems.\n"
       ]
      }
     ],
     "prompt_number": 239
    },
    {
     "cell_type": "code",
     "collapsed": false,
     "input": [
      "OLS(df2,'scores ~ duration + ATOS + english + degree')"
     ],
     "language": "python",
     "metadata": {},
     "outputs": [
      {
       "output_type": "stream",
       "stream": "stdout",
       "text": [
        "                            OLS Regression Results                            \n",
        "==============================================================================\n",
        "Dep. Variable:                 scores   R-squared:                       0.146\n",
        "Model:                            OLS   Adj. R-squared:                  0.106\n",
        "Method:                 Least Squares   F-statistic:                     3.650\n",
        "Date:                Wed, 12 Nov 2014   Prob (F-statistic):            0.00435\n",
        "Time:                        22:21:52   Log-Likelihood:                 4.5865\n",
        "No. Observations:                 113   AIC:                             2.827\n",
        "Df Residuals:                     107   BIC:                             19.19\n",
        "Df Model:                           5                                         \n",
        "==============================================================================\n",
        "                 coef    std err          t      P>|t|      [95.0% Conf. Int.]\n",
        "------------------------------------------------------------------------------\n",
        "Intercept      0.0784      0.180      0.435      0.664        -0.278     0.435\n",
        "duration      -0.0007      0.000     -3.171      0.002        -0.001    -0.000\n",
        "ATOS           0.0474      0.017      2.768      0.007         0.013     0.081\n",
        "english        0.0664      0.050      1.328      0.187        -0.033     0.166\n",
        "degree         0.0155      0.026      0.597      0.552        -0.036     0.067\n",
        "control       -0.0069      0.020     -0.342      0.733        -0.047     0.033\n",
        "==============================================================================\n",
        "Omnibus:                        3.447   Durbin-Watson:                   1.704\n",
        "Prob(Omnibus):                  0.178   Jarque-Bera (JB):                2.081\n",
        "Skew:                           0.065   Prob(JB):                        0.353\n",
        "Kurtosis:                       2.348   Cond. No.                     1.52e+03\n",
        "==============================================================================\n",
        "\n",
        "Warnings:\n",
        "[1] The condition number is large, 1.52e+03. This might indicate that there are\n",
        "strong multicollinearity or other numerical problems.\n"
       ]
      }
     ],
     "prompt_number": 198
    },
    {
     "cell_type": "code",
     "collapsed": false,
     "input": [
      "OLS(df2,'understanding ~ duration + ATOS')"
     ],
     "language": "python",
     "metadata": {},
     "outputs": [
      {
       "output_type": "stream",
       "stream": "stdout",
       "text": [
        "                            OLS Regression Results                            \n",
        "==============================================================================\n",
        "Dep. Variable:          understanding   R-squared:                       0.063\n",
        "Model:                            OLS   Adj. R-squared:                  0.047\n",
        "Method:                 Least Squares   F-statistic:                     3.917\n",
        "Date:                Wed, 12 Nov 2014   Prob (F-statistic):             0.0226\n",
        "Time:                        22:24:57   Log-Likelihood:                -177.26\n",
        "No. Observations:                 119   AIC:                             360.5\n",
        "Df Residuals:                     116   BIC:                             368.9\n",
        "Df Model:                           2                                         \n",
        "==============================================================================\n",
        "                 coef    std err          t      P>|t|      [95.0% Conf. Int.]\n",
        "------------------------------------------------------------------------------\n",
        "Intercept      1.7581      0.709      2.480      0.015         0.354     3.162\n",
        "duration      -0.0016      0.001     -1.712      0.089        -0.003     0.000\n",
        "ATOS           0.1660      0.073      2.261      0.026         0.021     0.311\n",
        "==============================================================================\n",
        "Omnibus:                        5.900   Durbin-Watson:                   1.770\n",
        "Prob(Omnibus):                  0.052   Jarque-Bera (JB):                3.049\n",
        "Skew:                          -0.130   Prob(JB):                        0.218\n",
        "Kurtosis:                       2.260   Cond. No.                     1.32e+03\n",
        "==============================================================================\n",
        "\n",
        "Warnings:\n",
        "[1] The condition number is large, 1.32e+03. This might indicate that there are\n",
        "strong multicollinearity or other numerical problems.\n"
       ]
      }
     ],
     "prompt_number": 203
    },
    {
     "cell_type": "code",
     "collapsed": false,
     "input": [
      "formula = 'understanding ~ scores + comfort + control'\n",
      "OLS(df2,formula)"
     ],
     "language": "python",
     "metadata": {},
     "outputs": [
      {
       "output_type": "stream",
       "stream": "stdout",
       "text": [
        "                            OLS Regression Results                            \n",
        "==============================================================================\n",
        "Dep. Variable:          understanding   R-squared:                       0.552\n",
        "Model:                            OLS   Adj. R-squared:                  0.541\n",
        "Method:                 Least Squares   F-statistic:                     50.02\n",
        "Date:                Wed, 12 Nov 2014   Prob (F-statistic):           3.75e-21\n",
        "Time:                        22:23:10   Log-Likelihood:                -141.25\n",
        "No. Observations:                 126   AIC:                             290.5\n",
        "Df Residuals:                     122   BIC:                             301.8\n",
        "Df Model:                           3                                         \n",
        "==============================================================================\n",
        "                 coef    std err          t      P>|t|      [95.0% Conf. Int.]\n",
        "------------------------------------------------------------------------------\n",
        "Intercept      0.1208      0.259      0.465      0.642        -0.393     0.634\n",
        "scores         0.7030      0.274      2.564      0.012         0.160     1.246\n",
        "comfort        0.7187      0.076      9.432      0.000         0.568     0.870\n",
        "control        0.0659      0.067      0.983      0.327        -0.067     0.199\n",
        "==============================================================================\n",
        "Omnibus:                        2.066   Durbin-Watson:                   1.804\n",
        "Prob(Omnibus):                  0.356   Jarque-Bera (JB):                1.669\n",
        "Skew:                          -0.272   Prob(JB):                        0.434\n",
        "Kurtosis:                       3.145   Cond. No.                         22.1\n",
        "==============================================================================\n"
       ]
      }
     ],
     "prompt_number": 201
    },
    {
     "cell_type": "code",
     "collapsed": false,
     "input": [
      "formula = 'scores ~ comfort + control'\n",
      "OLS(df2,formula)"
     ],
     "language": "python",
     "metadata": {},
     "outputs": [
      {
       "output_type": "stream",
       "stream": "stdout",
       "text": [
        "                            OLS Regression Results                            \n",
        "==============================================================================\n",
        "Dep. Variable:                 scores   R-squared:                       0.024\n",
        "Model:                            OLS   Adj. R-squared:                  0.009\n",
        "Method:                 Least Squares   F-statistic:                     1.540\n",
        "Date:                Wed, 12 Nov 2014   Prob (F-statistic):              0.219\n",
        "Time:                        22:23:41   Log-Likelihood:                -1.6315\n",
        "No. Observations:                 126   AIC:                             9.263\n",
        "Df Residuals:                     123   BIC:                             17.77\n",
        "Df Model:                           2                                         \n",
        "==============================================================================\n",
        "                 coef    std err          t      P>|t|      [95.0% Conf. Int.]\n",
        "------------------------------------------------------------------------------\n",
        "Intercept      0.3362      0.080      4.215      0.000         0.178     0.494\n",
        "comfort        0.0405      0.025      1.635      0.105        -0.009     0.090\n",
        "control       -0.0056      0.022     -0.256      0.798        -0.049     0.038\n",
        "==============================================================================\n",
        "Omnibus:                        0.544   Durbin-Watson:                   1.647\n",
        "Prob(Omnibus):                  0.762   Jarque-Bera (JB):                0.682\n",
        "Skew:                           0.075   Prob(JB):                        0.711\n",
        "Kurtosis:                       2.672   Cond. No.                         17.6\n",
        "==============================================================================\n"
       ]
      }
     ],
     "prompt_number": 202
    },
    {
     "cell_type": "code",
     "collapsed": false,
     "input": [
      "outcome = 'comfort'\n",
      "cond1 = 'condition0'\n",
      "cond2 = 'combinedConditions'\n",
      "\n",
      "\n",
      "print df[outcome][df[cond1]==1].mean()\n",
      "print df[outcome][df[cond1]==1].std()\n",
      "\n",
      "print \"\\n\"\n",
      "\n",
      "print df[outcome][df[cond2]==1].mean()\n",
      "print df[outcome][df[cond2]==1].std()"
     ],
     "language": "python",
     "metadata": {},
     "outputs": [
      {
       "output_type": "stream",
       "stream": "stdout",
       "text": [
        "3.43181818182\n",
        "1.12885468348\n",
        "\n",
        "\n",
        "3.38461538462\n",
        "1.041038272\n"
       ]
      }
     ],
     "prompt_number": 51
    },
    {
     "cell_type": "code",
     "collapsed": false,
     "input": [
      "c0 = dfcond[dfcond.condition0==1].scores\n",
      "print np.mean(c0),np.std(c0)\n",
      "c1 = dfcond[dfcond.condition1==1].scores\n",
      "print np.mean(c1),np.std(c1)\n",
      "c2 = dfcond[dfcond.condition2==1].scores\n",
      "print np.mean(c2),np.std(c2)"
     ],
     "language": "python",
     "metadata": {},
     "outputs": [
      {
       "output_type": "stream",
       "stream": "stdout",
       "text": [
        "0.475609756098 0.255192619768\n",
        "0.465909090909 0.232546143609\n",
        "0.434959349594 0.255370629163\n"
       ]
      }
     ],
     "prompt_number": 47
    },
    {
     "cell_type": "code",
     "collapsed": false,
     "input": [
      "c0 = dfcond[dfcond.condition0==1].understanding\n",
      "print np.mean(c0),np.std(c0)\n",
      "c1 = dfcond[dfcond.condition1==1].understanding\n",
      "print np.mean(c1),np.std(c1)\n",
      "c2 = dfcond[dfcond.condition2==1].understanding\n",
      "print np.mean(c2),np.std(c2)"
     ],
     "language": "python",
     "metadata": {},
     "outputs": [
      {
       "output_type": "stream",
       "stream": "stdout",
       "text": [
        "3.25 1.13066754217\n",
        "3.04347826087 1.21505987935\n",
        "3.0 0.966091783079\n"
       ]
      }
     ],
     "prompt_number": 242
    },
    {
     "cell_type": "code",
     "collapsed": false,
     "input": [
      "c0 = dfcond[dfcond.condition0==1].comfort\n",
      "print np.mean(c0),np.std(c0)\n",
      "c1 = dfcond[dfcond.condition1==1].comfort\n",
      "print np.mean(c1),np.std(c1)\n",
      "c2 = dfcond[dfcond.condition2==1].comfort\n",
      "print np.mean(c2),np.std(c2)"
     ],
     "language": "python",
     "metadata": {},
     "outputs": [
      {
       "output_type": "stream",
       "stream": "stdout",
       "text": [
        "3.43181818182 1.11595306338\n",
        "3.39130434783 1.11273772975\n",
        "3.37777777778 0.949593805299\n"
       ]
      }
     ],
     "prompt_number": 243
    },
    {
     "cell_type": "code",
     "collapsed": false,
     "input": [
      "c0 = dfcond[dfcond.condition0==1].control\n",
      "print np.mean(c0),np.std(c0)\n",
      "c1 = dfcond[dfcond.condition1==1].control\n",
      "print np.mean(c1),np.std(c1)\n",
      "c2 = dfcond[dfcond.condition2==1].control\n",
      "print np.mean(c2),np.std(c2)"
     ],
     "language": "python",
     "metadata": {},
     "outputs": [
      {
       "output_type": "stream",
       "stream": "stdout",
       "text": [
        "2.86363636364 1.09939878386\n",
        "2.80434782609 1.24445841577\n",
        "2.91111111111 1.09183275525\n"
       ]
      }
     ],
     "prompt_number": 65
    },
    {
     "cell_type": "code",
     "collapsed": false,
     "input": [
      "df.understanding[(df['condition0']==0)*(df.ATOS < 9)].mean()"
     ],
     "language": "python",
     "metadata": {},
     "outputs": [
      {
       "metadata": {},
       "output_type": "pyout",
       "prompt_number": 62,
       "text": [
        "2.8484848484848486"
       ]
      }
     ],
     "prompt_number": 62
    },
    {
     "cell_type": "code",
     "collapsed": false,
     "input": [
      "df.ATOS.hist()"
     ],
     "language": "python",
     "metadata": {},
     "outputs": [
      {
       "metadata": {},
       "output_type": "pyout",
       "prompt_number": 3,
       "text": [
        "<matplotlib.axes.AxesSubplot at 0x3cadc90>"
       ]
      },
      {
       "metadata": {},
       "output_type": "display_data",
       "png": "[encoded data removed]",
       "text": [
        "<matplotlib.figure.Figure at 0x3cad810>"
       ]
      }
     ],
     "prompt_number": 3
    },
    {
     "cell_type": "code",
     "collapsed": false,
     "input": [
      "df_OLS = df[(df.ATOS > 5.0) & (df.trial_num > -1)]\n",
      "\n",
      "print stats.spearmanr(df_OLS['understanding'],df_OLS['scores'])\n",
      "\n",
      "result = ols(y=df_OLS['scores'], x=df_OLS[['condition2','combinedConditions','ATOS''condition2']])\n",
      "print result"
     ],
     "language": "python",
     "metadata": {},
     "outputs": [
      {
       "ename": "SyntaxError",
       "evalue": "invalid syntax (<ipython-input-45-42d30264aaa8>, line 5)",
       "output_type": "pyerr",
       "traceback": [
        "\u001b[1;36m  File \u001b[1;32m\"<ipython-input-45-42d30264aaa8>\"\u001b[1;36m, line \u001b[1;32m5\u001b[0m\n\u001b[1;33m    result = ols(y=df_OLS['scores'], x=df_OLS[['condition2','combinedConditions','ATOS'x'condition2']])\u001b[0m\n\u001b[1;37m                                                                                       ^\u001b[0m\n\u001b[1;31mSyntaxError\u001b[0m\u001b[1;31m:\u001b[0m invalid syntax\n"
       ]
      }
     ],
     "prompt_number": 45
    },
    {
     "cell_type": "code",
     "collapsed": false,
     "input": [
      "ols?"
     ],
     "language": "python",
     "metadata": {},
     "outputs": [],
     "prompt_number": 68
    },
    {
     "cell_type": "code",
     "collapsed": false,
     "input": [
      "result = ols(y=df_OLS['understanding'], x=df_OLS[['comfort','scores','control']])\n",
      "print result"
     ],
     "language": "python",
     "metadata": {},
     "outputs": [
      {
       "output_type": "stream",
       "stream": "stdout",
       "text": [
        "\n",
        "-------------------------Summary of Regression Analysis-------------------------\n",
        "\n",
        "Formula: Y ~ <comfort> + <scores> + <control> + <intercept>\n",
        "\n",
        "Number of Observations:         126\n",
        "Number of Degrees of Freedom:   4\n",
        "\n",
        "R-squared:         0.5516\n",
        "Adj R-squared:     0.5405\n",
        "\n",
        "Rmse:              0.7545\n",
        "\n",
        "F-stat (3, 122):    50.0209, p-value:     0.0000\n",
        "\n",
        "Degrees of Freedom: model 3, resid 122\n",
        "\n",
        "-----------------------Summary of Estimated Coefficients------------------------\n",
        "      Variable       Coef    Std Err     t-stat    p-value    CI 2.5%   CI 97.5%\n",
        "--------------------------------------------------------------------------------\n",
        "       comfort     0.7187     0.0762       9.43     0.0000     0.5693     0.8680\n",
        "        scores     0.7030     0.2742       2.56     0.0116     0.1656     1.2404\n",
        "       control     0.0659     0.0670       0.98     0.3274    -0.0655     0.1973\n",
        "     intercept     0.1208     0.2594       0.47     0.6424    -0.3877     0.6293\n",
        "---------------------------------End of Summary---------------------------------\n",
        "\n"
       ]
      }
     ],
     "prompt_number": 69
    },
    {
     "cell_type": "code",
     "collapsed": false,
     "input": [
      "result = ols(y=df_OLS['scores'], x=df_OLS[['comfort','understanding','control']])\n",
      "print result"
     ],
     "language": "python",
     "metadata": {},
     "outputs": [
      {
       "output_type": "stream",
       "stream": "stdout",
       "text": [
        "\n",
        "-------------------------Summary of Regression Analysis-------------------------\n",
        "\n",
        "Formula: Y ~ <comfort> + <understanding> + <control> + <intercept>\n",
        "\n",
        "Number of Observations:         126\n",
        "Number of Degrees of Freedom:   4\n",
        "\n",
        "R-squared:         0.0743\n",
        "Adj R-squared:     0.0515\n",
        "\n",
        "Rmse:              0.2427\n",
        "\n",
        "F-stat (3, 122):     3.2642, p-value:     0.0238\n",
        "\n",
        "Degrees of Freedom: model 3, resid 122\n",
        "\n",
        "-----------------------Summary of Estimated Coefficients------------------------\n",
        "      Variable       Coef    Std Err     t-stat    p-value    CI 2.5%   CI 97.5%\n",
        "--------------------------------------------------------------------------------\n",
        "       comfort    -0.0138     0.0322      -0.43     0.6686    -0.0769     0.0493\n",
        " understanding     0.0727     0.0284       2.56     0.0116     0.0171     0.1283\n",
        "       control    -0.0102     0.0216      -0.47     0.6395    -0.0525     0.0322\n",
        "     intercept     0.3102     0.0787       3.94     0.0001     0.1560     0.4644\n",
        "---------------------------------End of Summary---------------------------------\n",
        "\n"
       ]
      }
     ],
     "prompt_number": 64
    },
    {
     "cell_type": "markdown",
     "metadata": {},
     "source": [
      "### Words versus Brainwaves"
     ]
    },
    {
     "cell_type": "code",
     "collapsed": false,
     "input": [
      "import csv\n",
      "import os\n",
      "\n",
      "def loadRawFile(filepath):\n",
      "    '''loads a raw file, \n",
      "    containing timestamps, EEG signal and words, from the \n",
      "    brain speedreader experiment'''\n",
      "    \n",
      "    D = csv.reader(open(filepath))\n",
      "    time = []\n",
      "    raw = []\n",
      "    words = []\n",
      "    for line in D:\n",
      "        time = np.append(time,float(line[0]))\n",
      "        raw = np.append(raw,float(line[1]))\n",
      "        words = np.append(words,line[2])\n",
      "\n",
      "    return {'time' : time, 'raw' : raw, 'words': words}\n",
      "\n",
      "def loadAllRaw(dirPath):\n",
      "    files = os.listdir(dirPath)\n",
      "    dic = {}\n",
      "    for f in files:\n",
      "        if f[3] != '2':\n",
      "            #print \"skipping %s\"%f\n",
      "            #print f[3]\n",
      "            continue\n",
      "        else:\n",
      "            print f\n",
      "            dic[f[:2]] = loadRawFile(dirPath + f)\n",
      "    return dic"
     ],
     "language": "python",
     "metadata": {},
     "outputs": [],
     "prompt_number": 95
    },
    {
     "cell_type": "code",
     "collapsed": false,
     "input": [
      "filepath = \"/home/ubuntu/github/brainspeedreader/data/rawEEGwords.txt\"\n",
      "dic = loadRawFile(filepath)"
     ],
     "language": "python",
     "metadata": {},
     "outputs": [],
     "prompt_number": 71
    },
    {
     "cell_type": "code",
     "collapsed": false,
     "input": [
      "dirPath = \"/home/ubuntu/github/brainspeedreader/data/rawEEG/\"\n",
      "files = os.listdir(dirPath)\n",
      "dic = loadAllRaw(dirPath)"
     ],
     "language": "python",
     "metadata": {},
     "outputs": [
      {
       "output_type": "stream",
       "stream": "stdout",
       "text": [
        "28-2-3-7-2014_17:32-raw.txt\n",
        "35-2-22-7-2014_16:34-raw.txt"
       ]
      },
      {
       "output_type": "stream",
       "stream": "stdout",
       "text": [
        "\n",
        "37-2-25-7-2014_17:21-raw.txt"
       ]
      },
      {
       "output_type": "stream",
       "stream": "stdout",
       "text": [
        "\n",
        "38-2-25-7-2014_17:50-raw.txt"
       ]
      },
      {
       "output_type": "stream",
       "stream": "stdout",
       "text": [
        "\n",
        "37-2-25-7-2014_17:14-raw.txt"
       ]
      },
      {
       "output_type": "stream",
       "stream": "stdout",
       "text": [
        "\n",
        "28-2-3-7-2014_17:41-raw.txt"
       ]
      },
      {
       "output_type": "stream",
       "stream": "stdout",
       "text": [
        "\n",
        "30-2-3-7-2014_20:8-raw.txt"
       ]
      },
      {
       "output_type": "stream",
       "stream": "stdout",
       "text": [
        "\n",
        "32-2-22-7-2014_9:28-raw.txt"
       ]
      },
      {
       "output_type": "stream",
       "stream": "stdout",
       "text": [
        "\n",
        "40-2-25-7-2014_19:23-raw.txt"
       ]
      },
      {
       "output_type": "stream",
       "stream": "stdout",
       "text": [
        "\n",
        "33-2-22-7-2014_15:37-raw.txt"
       ]
      },
      {
       "output_type": "stream",
       "stream": "stdout",
       "text": [
        "\n",
        "34-2-22-7-2014_16:10-raw.txt"
       ]
      },
      {
       "output_type": "stream",
       "stream": "stdout",
       "text": [
        "\n",
        "31-2-8-7-2014_18:59-raw.txt"
       ]
      },
      {
       "output_type": "stream",
       "stream": "stdout",
       "text": [
        "\n",
        "29-2-3-7-2014_18:4-raw.txt"
       ]
      },
      {
       "output_type": "stream",
       "stream": "stdout",
       "text": [
        "\n",
        "31-2-8-7-2014_18:52-raw.txt"
       ]
      },
      {
       "output_type": "stream",
       "stream": "stdout",
       "text": [
        "\n",
        "40-2-25-7-2014_19:15-raw.txt"
       ]
      },
      {
       "output_type": "stream",
       "stream": "stdout",
       "text": [
        "\n",
        "34-2-22-7-2014_16:1-raw.txt"
       ]
      },
      {
       "output_type": "stream",
       "stream": "stdout",
       "text": [
        "\n",
        "39-2-25-7-2014_18:56-raw.txt"
       ]
      },
      {
       "output_type": "stream",
       "stream": "stdout",
       "text": [
        "\n",
        "36-2-25-7-2014_16:51-raw.txt"
       ]
      },
      {
       "output_type": "stream",
       "stream": "stdout",
       "text": [
        "\n"
       ]
      }
     ],
     "prompt_number": 96
    },
    {
     "cell_type": "code",
     "collapsed": false,
     "input": [
      "raw = dic['raw']"
     ],
     "language": "python",
     "metadata": {},
     "outputs": [],
     "prompt_number": 13
    },
    {
     "cell_type": "code",
     "collapsed": false,
     "input": [
      "words = dic['words']"
     ],
     "language": "python",
     "metadata": {},
     "outputs": [],
     "prompt_number": 14
    },
    {
     "cell_type": "code",
     "collapsed": false,
     "input": [
      "processEntropy(dic['28'])"
     ],
     "language": "python",
     "metadata": {},
     "outputs": [
      {
       "metadata": {},
       "output_type": "pyout",
       "prompt_number": 101,
       "text": [
        "{'Snorm': array([  3.78917190e-01,   4.37524218e-01,  -1.79443465e-01,\n",
        "          2.30950073e-01,  -5.52291843e+00,   3.71012739e-01,\n",
        "         -4.57591964e-01,   4.15249670e-01,   3.92735840e-01,\n",
        "         -8.75436623e-01,   3.82336745e-01,   4.17060645e-01,\n",
        "          4.47690120e-01,   3.76824372e-01,   3.90998711e-01,\n",
        "         -7.96535170e-01,   1.22789770e-01,   3.41042058e-01,\n",
        "          5.12325696e-01,   3.47097992e-01,   4.50857764e-01,\n",
        "          3.75673047e-01,   8.38001065e-02,   3.45611294e-01,\n",
        "          4.05822996e-01,   3.89699938e-01,   3.52161081e-01,\n",
        "         -1.34728410e+00,   2.98234211e-01,   4.22093018e-01,\n",
        "          4.00129163e-01,   8.70566603e-02,   4.91788249e-01,\n",
        "          3.66570078e-01,   3.45437871e-01,   4.53036053e-01,\n",
        "          3.86936174e-01,   3.34031444e-01,   3.77201526e-01,\n",
        "          3.40719820e-01,   4.24063455e-01,   4.31878425e-01,\n",
        "          1.45357469e-01,   4.01420548e-01,  -1.91614914e-01,\n",
        "          3.34681598e-01,   3.85630570e-01,  -1.86412518e-01,\n",
        "          3.04695895e-01,   2.98271736e-01,   5.18413351e-01,\n",
        "         -7.99659558e-02,   4.33270619e-01,   3.68713116e-02,\n",
        "          4.13538989e-01,  -1.17986323e+00,   3.92908843e-01,\n",
        "          4.70361666e-01,   1.65100315e-02,  -3.61855428e+00,\n",
        "         -2.45748617e+00,   4.43866410e-01,   3.61314022e-01,\n",
        "          3.44189597e-01,  -2.53579496e+00,   3.40526010e-01,\n",
        "          3.12438581e-01,   3.77640486e-01,   6.05747812e-02,\n",
        "          4.54132388e-01,   4.30126545e-01,  -7.64702261e-01,\n",
        "          4.24628216e-01,   3.86456325e-01,  -5.58974410e-01,\n",
        "          3.47067072e-01,   3.64199971e-01,   3.61607075e-01,\n",
        "          3.85072381e-01,   4.16191654e-01,  -1.61754972e-03,\n",
        "          4.24821154e-01,   3.89980604e-01,   3.90836683e-01,\n",
        "         -1.12531679e+00,   4.06791559e-01,   3.28656844e-01,\n",
        "          2.99593146e-01,   3.65018267e-01,   3.94940661e-01,\n",
        "         -4.21044849e+00]),\n",
        " 'lWord': array([  3.,   6.,   2.,   3.,   2.,   6.,   3.,   8.,   4.,   3.,   6.,\n",
        "          5.,   3.,   5.,   3.,   4.,   3.,   7.,   5.,   4.,   5.,  12.,\n",
        "          4.,   3.,   6.,   2.,   2.,   4.,   4.,   2.,   2.,   4.,   5.,\n",
        "          8.,   7.,   5.,   5.,   4.,   3.,   3.,   8.,   7.,   5.,   4.,\n",
        "         10.,   3.,   7.,   3.,   8.,   7.,   4.,   2.,   6.,   4.,   5.,\n",
        "          2.,   4.,   3.,   8.,   2.,   3.,  10.,   6.,   2.,   2.,   3.,\n",
        "          2.,   4.,   2.,   3.,  11.,   4.,   7.,   2.,   8.,   3.,   3.,\n",
        "          4.,   4.,  11.,   1.,   5.,   5.,   6.,   5.,   7.,   2.,   8.,\n",
        "          4.,   9.,   3.])}"
       ]
      }
     ],
     "prompt_number": 101
    },
    {
     "cell_type": "code",
     "collapsed": false,
     "input": [
      "def processEntropy(dicW):\n",
      "    '''process entropy for each file'''\n",
      "    # Some simple cleaning\n",
      "    dicW = dict(zip(*np.unique(words, return_counts=True)))\n",
      "    dicW.pop('x')\n",
      "    dicW.pop('\\xe2\\x80\\x94')\n",
      "\n",
      "    \n",
      "    S = []\n",
      "    lWord = []\n",
      "\n",
      "    \n",
      "    for w in dicW.keys():\n",
      "        lWord = np.append(lWord,len(w))\n",
      "        c = words == w\n",
      "        #print raw[c]\n",
      "        pSpec = pSpectrum(raw[c])\n",
      "        s = entropy(pSpec,1)\n",
      "        S = np.append(S,s)\n",
      "        #print len(pSpec), s\n",
      "\n",
      "\n",
      "    Snorm = normalize(S)\n",
      "\n",
      "    return {'lWord' : lWord, 'Snorm' : Snorm}\n",
      "\n",
      "\n",
      "def processAll(dicAll):\n",
      "    \n",
      "    lW = []\n",
      "    S = []\n",
      "    \n",
      "    for key,value in dicAll.items():\n",
      "        print key\n",
      "        dic = processEntropy(value)\n",
      "        lW = np.concatenate([lW,dic['lWord']])\n",
      "        S = np.concatenate([S,dic['Snorm']])\n",
      "                            \n",
      "    return {'lW' : lW, 'S' : S}\n",
      "\n",
      "print \"blah\""
     ],
     "language": "python",
     "metadata": {},
     "outputs": [
      {
       "output_type": "stream",
       "stream": "stdout",
       "text": [
        "blah\n"
       ]
      }
     ],
     "prompt_number": 110
    },
    {
     "cell_type": "code",
     "collapsed": false,
     "input": [
      "results = processAll(dic)"
     ],
     "language": "python",
     "metadata": {},
     "outputs": [
      {
       "output_type": "stream",
       "stream": "stdout",
       "text": [
        "39\n",
        "38"
       ]
      },
      {
       "output_type": "stream",
       "stream": "stdout",
       "text": [
        "\n",
        "33\n",
        "28"
       ]
      },
      {
       "output_type": "stream",
       "stream": "stdout",
       "text": [
        "\n",
        "31"
       ]
      },
      {
       "output_type": "stream",
       "stream": "stdout",
       "text": [
        "\n",
        "30"
       ]
      },
      {
       "output_type": "stream",
       "stream": "stdout",
       "text": [
        "\n",
        "37\n",
        "29"
       ]
      },
      {
       "output_type": "stream",
       "stream": "stdout",
       "text": [
        "\n",
        "35"
       ]
      },
      {
       "output_type": "stream",
       "stream": "stdout",
       "text": [
        "\n",
        "34"
       ]
      },
      {
       "output_type": "stream",
       "stream": "stdout",
       "text": [
        "\n",
        "36"
       ]
      },
      {
       "output_type": "stream",
       "stream": "stdout",
       "text": [
        "\n",
        "40"
       ]
      },
      {
       "output_type": "stream",
       "stream": "stdout",
       "text": [
        "\n",
        "32"
       ]
      },
      {
       "output_type": "stream",
       "stream": "stdout",
       "text": [
        "\n"
       ]
      }
     ],
     "prompt_number": 111
    },
    {
     "cell_type": "code",
     "collapsed": false,
     "input": [
      "lWord = results['lW']\n",
      "Snorm = results['S']"
     ],
     "language": "python",
     "metadata": {},
     "outputs": [],
     "prompt_number": 115
    },
    {
     "cell_type": "code",
     "collapsed": false,
     "input": [
      "binning??"
     ],
     "language": "python",
     "metadata": {},
     "outputs": [],
     "prompt_number": 117
    },
    {
     "cell_type": "code",
     "collapsed": false,
     "input": [
      "np.array([B[3],B[4]])"
     ],
     "language": "python",
     "metadata": {},
     "outputs": [
      {
       "metadata": {},
       "output_type": "pyout",
       "prompt_number": 121,
       "text": [
        "array([[ -1.61754972e-03,  -5.52291843e+00,  -3.68455979e+00,\n",
        "         -1.34728410e+00,  -1.12531679e+00,   3.61314022e-01,\n",
        "          2.98271736e-01,  -5.58974410e-01,   3.94940661e-01,\n",
        "         -1.91614914e-01,   4.16191654e-01,   3.75673047e-01],\n",
        "       [ -1.61754972e-03,   4.22093018e-01,   4.65492882e-01,\n",
        "          5.18413351e-01,   5.12325696e-01,   4.37524218e-01,\n",
        "          4.31878425e-01,   4.24063455e-01,   3.94940661e-01,\n",
        "          4.43866410e-01,   4.30126545e-01,   3.75673047e-01]])"
       ]
      }
     ],
     "prompt_number": 121
    },
    {
     "cell_type": "code",
     "collapsed": false,
     "input": [
      "fit = stats.linregress(lWord,Snorm)\n",
      "B = binning(lWord,Snorm,30,confinter=25)\n",
      "fitB = stats.linregress(B[0],B[1])\n",
      "print fit\n",
      "print fitB\n",
      "pl.figure(1,(10,10))\n",
      "pl.plot(lWord,Snorm,'.')\n",
      "#pl.plot(lWord,lWord*fit[0]+fit[1],'b-')\n",
      "pl.plot(B[0],B[1],'ro')\n",
      "pl.plot(B[0],B[3],'m-')\n",
      "pl.plot(B[0],B[4],'r-')\n",
      "#pl.errorbar(B[0],B[1],yerr=np.array([B[4],B[3]]),color='r')\n",
      "pl.plot(lWord,lWord*fitB[0]+fitB[1],'r-')\n",
      "pl.xlabel(\"Word length\")\n",
      "pl.ylabel(\"Normalized Entropy\")"
     ],
     "language": "python",
     "metadata": {},
     "outputs": [
      {
       "output_type": "stream",
       "stream": "stdout",
       "text": [
        "(0.11116284798648446, -0.52038871694771838, 0.2656682536727959, 1.4654646878970546e-20, 0.011738190419536601)\n",
        "(0.012401112539904597, 0.2373094653704842, 0.34934950619541782, 0.26567845200774937, 0.01051808373921707)\n"
       ]
      },
      {
       "metadata": {},
       "output_type": "pyout",
       "prompt_number": 156,
       "text": [
        "<matplotlib.text.Text at 0x10b4edd0>"
       ]
      },
      {
       "metadata": {},
       "output_type": "display_data",
       "png": "[encoded data removed]",
       "text": [
        "<matplotlib.figure.Figure at 0x10b07d10>"
       ]
      }
     ],
     "prompt_number": 156
    },
    {
     "cell_type": "code",
     "collapsed": false,
     "input": [
      "\n",
      "pl.plot(B[0],B[1])\n",
      "pl.plot(B[0],B[3],'m-')\n",
      "pl.plot(B[0],B[4],'r-')\n",
      "pl.errorbar(B[0],B[1],yerr=np.array([B[4]-B[1],B[3]]),color='r')"
     ],
     "language": "python",
     "metadata": {},
     "outputs": [
      {
       "metadata": {},
       "output_type": "pyout",
       "prompt_number": 153,
       "text": [
        "<Container object of 3 artists>"
       ]
      },
      {
       "metadata": {},
       "output_type": "display_data",
       "png": "[encoded data removed]",
       "text": [
        "<matplotlib.figure.Figure at 0x102a7890>"
       ]
      }
     ],
     "prompt_number": 153
    },
    {
     "cell_type": "code",
     "collapsed": false,
     "input": [
      "B[3]"
     ],
     "language": "python",
     "metadata": {},
     "outputs": [
      {
       "metadata": {},
       "output_type": "pyout",
       "prompt_number": 150,
       "text": [
        "array([ -1.61754972e-03,  -5.52291843e+00,  -3.68455979e+00,\n",
        "        -1.34728410e+00,  -1.12531679e+00,   3.61314022e-01,\n",
        "         2.98271736e-01,  -5.58974410e-01,   3.94940661e-01,\n",
        "        -1.91614914e-01,   4.16191654e-01,   3.75673047e-01])"
       ]
      }
     ],
     "prompt_number": 150
    },
    {
     "cell_type": "code",
     "collapsed": false,
     "input": [
      "B[1]"
     ],
     "language": "python",
     "metadata": {},
     "outputs": [
      {
       "metadata": {},
       "output_type": "pyout",
       "prompt_number": 152,
       "text": [
        "array([-0.00161755,  0.31243858,  0.34071982,  0.34709799,  0.41529982,\n",
        "        0.39083668,  0.38563057,  0.30469589,  0.39494066,  0.12612575,\n",
        "        0.4231591 ,  0.37567305])"
       ]
      }
     ],
     "prompt_number": 152
    },
    {
     "cell_type": "code",
     "collapsed": false,
     "input": [],
     "language": "python",
     "metadata": {},
     "outputs": []
    }
   ],
   "metadata": {}
  }
 ]
}